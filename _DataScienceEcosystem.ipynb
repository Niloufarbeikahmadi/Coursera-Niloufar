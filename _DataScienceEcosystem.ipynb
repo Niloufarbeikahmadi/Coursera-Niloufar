{
 "cells": [
  {
   "cell_type": "markdown",
   "id": "163177eb-49cb-43a9-939a-898727ede756",
   "metadata": {},
   "source": [
    "# Data Science Tools and Ecosystem"
   ]
  },
  {
   "cell_type": "markdown",
   "id": "0009bef3-fe1b-438a-a9bb-13a5aa925b8e",
   "metadata": {},
   "source": [
    "In this notebook, Data Science Tools and Ecosystem are summarized."
   ]
  },
  {
   "cell_type": "markdown",
   "id": "f1b9e761-b7fd-4d5f-b67d-5d18b00ab32a",
   "metadata": {},
   "source": [
    "Some of the popular languages that Data Scientists use are:\n",
    "\n",
    "1. Python\n",
    "2. R\n",
    "3. SQL\n",
    "4. Julia\n",
    "5. Scala\n"
   ]
  },
  {
   "cell_type": "markdown",
   "id": "75e2a012-5c0f-4a6a-8979-3f0f6c5dfa9e",
   "metadata": {},
   "source": [
    "Some of the commonly used libraries used by Data Scientists include:\n",
    "\n",
    "1. Pandas\n",
    "2. NumPy\n",
    "3. Matplotlib\n",
    "4. Scikit-learn\n",
    "5. TensorFlow\n",
    "6. Keras\n"
   ]
  },
  {
   "cell_type": "markdown",
   "id": "1887a2d4-0b6d-4f55-9cdb-96feafa94bf7",
   "metadata": {},
   "source": [
    "| Data Science Tools         |\n",
    "|----------------------------|\n",
    "| Jupyter Notebook           |\n",
    "| RStudio                    |\n",
    "| Apache Zeppelin            |\n"
   ]
  },
  {
   "cell_type": "markdown",
   "id": "325c635f-0f0a-4fcb-aff9-6e360f35b286",
   "metadata": {},
   "source": [
    "### Below are a few examples of evaluating arithmetic expressions in Python.\n"
   ]
  },
  {
   "cell_type": "code",
   "execution_count": 2,
   "id": "7f411069-b20a-4243-b715-56d1d0896348",
   "metadata": {},
   "outputs": [
    {
     "data": {
      "text/plain": [
       "17"
      ]
     },
     "execution_count": 2,
     "metadata": {},
     "output_type": "execute_result"
    }
   ],
   "source": [
    "# This is a simple arithmetic expression to multiply then add integers\n",
    "(3 * 4) + 5\n"
   ]
  },
  {
   "cell_type": "code",
   "execution_count": 3,
   "id": "891d4317-5db4-4c57-ae6b-d801bfcb8a73",
   "metadata": {},
   "outputs": [
    {
     "data": {
      "text/plain": [
       "3.3333333333333335"
      ]
     },
     "execution_count": 3,
     "metadata": {},
     "output_type": "execute_result"
    }
   ],
   "source": [
    "# This will convert 200 minutes to hours by dividing by 60\n",
    "200 / 60\n"
   ]
  },
  {
   "cell_type": "markdown",
   "id": "ffc90c25-df2c-4f76-badd-9c02f7cd67be",
   "metadata": {},
   "source": [
    "**Objectives:**\n",
    "\n",
    "- List popular languages for Data Science\n",
    "- Identify commonly used libraries in Data Science\n",
    "- Explore open-source tools and development environments\n",
    "- Demonstrate examples of arithmetic expressions in Python\n",
    "- Convert units such as minutes to hours in Python\n"
   ]
  },
  {
   "cell_type": "markdown",
   "id": "5f82d1ff-c55f-44e7-b16d-3e9d0b769bbe",
   "metadata": {},
   "source": [
    "## Author\n",
    "\n",
    "Niloufar Beikahmadi\n"
   ]
  },
  {
   "cell_type": "code",
   "execution_count": null,
   "id": "85390ec4-beed-4702-805d-aad2bff117c4",
   "metadata": {},
   "outputs": [],
   "source": []
  }
 ],
 "metadata": {
  "kernelspec": {
   "display_name": "Python 3 (ipykernel)",
   "language": "python",
   "name": "python3"
  },
  "language_info": {
   "codemirror_mode": {
    "name": "ipython",
    "version": 3
   },
   "file_extension": ".py",
   "mimetype": "text/x-python",
   "name": "python",
   "nbconvert_exporter": "python",
   "pygments_lexer": "ipython3",
   "version": "3.11.5"
  }
 },
 "nbformat": 4,
 "nbformat_minor": 5
}
